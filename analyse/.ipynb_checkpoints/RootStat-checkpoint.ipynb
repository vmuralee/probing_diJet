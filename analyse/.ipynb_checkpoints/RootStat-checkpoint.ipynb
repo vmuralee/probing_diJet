{
 "cells": [
  {
   "cell_type": "code",
   "execution_count": 1,
   "metadata": {},
   "outputs": [],
   "source": [
    "using namespace RooStats;\n",
    "using namespace HistFactory;"
   ]
  },
  {
   "cell_type": "code",
   "execution_count": null,
   "metadata": {},
   "outputs": [],
   "source": []
  },
  {
   "cell_type": "code",
   "execution_count": 2,
   "metadata": {},
   "outputs": [
    {
     "name": "stdout",
     "output_type": "stream",
     "text": [
      "\n",
      "\u001b[1mRooFit v3.60 -- Developed by Wouter Verkerke and David Kirkby\u001b[0m \n",
      "                Copyright (C) 2000-2013 NIKHEF, University of California & Stanford University\n",
      "                All rights reserved, please read http://roofit.sourceforge.net/license.txt\n",
      "\n"
     ]
    }
   ],
   "source": [
    "\n",
    "std::string inputFileName = \"../output/NN_tuple_gg_JSS.root\";\n",
    "HistFactory::Measurement meas(\"meas\", \"meas\");\n",
    "meas.SetOutputFilePrefix( \"./example_\" );"
   ]
  },
  {
   "cell_type": "code",
   "execution_count": 3,
   "metadata": {},
   "outputs": [],
   "source": [
    "meas.SetPOI(\"mu\");"
   ]
  },
  {
   "cell_type": "code",
   "execution_count": 4,
   "metadata": {},
   "outputs": [],
   "source": [
    "meas.AddConstantParam(\"alpha_syst1\");\n",
    "meas.AddConstantParam(\"Lumi\");"
   ]
  },
  {
   "cell_type": "code",
   "execution_count": 5,
   "metadata": {},
   "outputs": [],
   "source": [
    "meas.SetLumi(100.0);\n",
    "meas.SetLumiRelErr(0.10);"
   ]
  },
  {
   "cell_type": "code",
   "execution_count": 6,
   "metadata": {},
   "outputs": [],
   "source": [
    "meas.SetExportOnly(false);\n",
    "meas.SetBinHigh(2);"
   ]
  },
  {
   "cell_type": "code",
   "execution_count": 7,
   "metadata": {},
   "outputs": [],
   "source": [
    "\n",
    "HistFactory::Channel chan(\"channel1\");"
   ]
  },
  {
   "cell_type": "code",
   "execution_count": 8,
   "metadata": {},
   "outputs": [],
   "source": [
    "HistFactory::Sample sig( \"signal\", \"sig_score\", inputFileName ) ;\n",
    "sig.AddOverallSys(\"syst1\",0.95,1.05) ;\n",
    "sig.AddNormFactor(\"mu\",1,0,3 ) ;\n",
    "chan.AddSample(sig) ;"
   ]
  },
  {
   "cell_type": "code",
   "execution_count": 9,
   "metadata": {},
   "outputs": [],
   "source": [
    "\n",
    "HistFactory::Sample background1(\"background\",\"bkg_score\",inputFileName) ;\n",
    "//background1.ActivateStatError(\"background1_statUncert\",inputFileName) ;\n",
    "background1.AddOverallSys(\"syst2\",0.95,1.05) ;\n",
    "chan.AddSample(background1) ;"
   ]
  },
  {
   "cell_type": "code",
   "execution_count": 10,
   "metadata": {},
   "outputs": [],
   "source": [
    "\n",
    "meas.AddChannel( chan );"
   ]
  },
  {
   "cell_type": "code",
   "execution_count": 11,
   "metadata": {},
   "outputs": [
    {
     "name": "stdout",
     "output_type": "stream",
     "text": [
      "[#2] PROGRESS:HistFactory -- Getting histogram ../output/NN_tuple_gg_JSS.root:/sig_score\n",
      "[#2] INFO:HistFactory -- Opened input file: ../output/NN_tuple_gg_JSS.root: \n",
      "[#2] PROGRESS:HistFactory -- Getting histogram ../output/NN_tuple_gg_JSS.root:/bkg_score\n",
      "[#2] PROGRESS:HistFactory -- Getting histogram ../output/NN_tuple_gg_JSS.root:/background1_statUncert\n",
      "[#2] ERROR:HistFactory -- Histogram 'background1_statUncert' wasn't found in file '../output/NN_tuple_gg_JSS.root' in directory ''.\n"
     ]
    }
   ],
   "source": [
    "\n",
    "meas.CollectHistograms();"
   ]
  },
  {
   "cell_type": "code",
   "execution_count": null,
   "metadata": {},
   "outputs": [],
   "source": []
  }
 ],
 "metadata": {
  "kernelspec": {
   "display_name": "ROOT C++",
   "language": "c++",
   "name": "root"
  },
  "language_info": {
   "codemirror_mode": "text/x-c++src",
   "file_extension": ".C",
   "mimetype": " text/x-c++src",
   "name": "c++"
  }
 },
 "nbformat": 4,
 "nbformat_minor": 4
}
