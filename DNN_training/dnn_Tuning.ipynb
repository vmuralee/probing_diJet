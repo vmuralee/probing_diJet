{
 "cells": [
  {
   "cell_type": "code",
   "execution_count": 1,
   "metadata": {},
   "outputs": [
    {
     "name": "stdout",
     "output_type": "stream",
     "text": [
      "Welcome to JupyROOT 6.22/00\n"
     ]
    }
   ],
   "source": [
    "import os\n",
    "import ROOT\n",
    "import tensorflow as tf\n",
    "from tensorflow import keras\n",
    "from sklearn.model_selection import train_test_split\n",
    "import numpy as np\n",
    "import copy\n",
    "import pandas as pd\n",
    "import matplotlib.pyplot as plt\n",
    "from Data2Array import Data2Array,Array2Data\n",
    "import argparse\n",
    "from sklearn.metrics import roc_curve,roc_auc_score\n",
    "from sklearn.preprocessing import OneHotEncoder\n",
    "from sklearn.preprocessing import StandardScaler\n",
    "from sklearn.pipeline import Pipeline\n",
    "from sklearn.impute import SimpleImputer\n",
    "from scipy.stats import reciprocal\n",
    "from sklearn.model_selection import RandomizedSearchCV"
   ]
  },
  {
   "cell_type": "code",
   "execution_count": 2,
   "metadata": {},
   "outputs": [],
   "source": [
    "labels = ['ptJ1','ptJ2','invmass','DRJ1J2','etaJ1','etaJ2']\n",
    "#labels = labels+['pTDJ1','pTDJ2','LHAJ1','LHAJ2','e05J1','e05J2','s2J1','s2J2','pmJ1','pmJ2','tmJ1','tmJ2','widthJ1','widthJ2','girthJ1','girthJ2']"
   ]
  },
  {
   "cell_type": "code",
   "execution_count": 3,
   "metadata": {},
   "outputs": [],
   "source": [
    "filenames =['pp2jj_SMbkg-Nev2e6-ptJetMin700-antiktR0.4-zcut0.1-beta1.0.root','pp2coloron2_qq-Nev2e6-ptJetMin700-antiktR0.4-zcut0.1-beta1.0.root']"
   ]
  },
  {
   "cell_type": "code",
   "execution_count": 6,
   "metadata": {},
   "outputs": [
    {
     "name": "stdout",
     "output_type": "stream",
     "text": [
      "loading data from ../data/Ntuples/pp2jj_SMbkg-Nev2e6-ptJetMin700-antiktR0.4-zcut0.1-beta1.0.root\n",
      "loading data from ../data/Ntuples/pp2coloron2_qq-Nev2e6-ptJetMin700-antiktR0.4-zcut0.1-beta1.0.root\n"
     ]
    }
   ],
   "source": [
    "data = Data2Array('../data/Ntuples',filenames,labels,(0,10000))\n",
    "data_ar = data.load_df()"
   ]
  },
  {
   "cell_type": "code",
   "execution_count": 7,
   "metadata": {},
   "outputs": [],
   "source": [
    "#Creating Training,Test and Validation samples\n",
    "traindataset_full,testdataset = train_test_split(data_ar,test_size=0.1,random_state=42)\n",
    "traindataset,valdataset = train_test_split(traindataset_full,test_size=0.2,random_state=42)\n",
    "trainData = copy.deepcopy(traindataset)\n",
    "valData = copy.deepcopy(valdataset)\n",
    "\n",
    "\n",
    "X_train,X_val = trainData.drop('target',axis=1).to_numpy(dtype='float64'),valData.drop('target',axis=1).to_numpy(dtype='float64')\n",
    "y_train,y_val = trainData['target'].to_numpy(dtype='float64'),valData['target'].to_numpy(dtype='float64')\n",
    "X_test,y_test = testdataset.drop('target',axis=1).to_numpy(dtype='float64'),testdataset['target']\n"
   ]
  },
  {
   "cell_type": "code",
   "execution_count": 8,
   "metadata": {},
   "outputs": [
    {
     "name": "stdout",
     "output_type": "stream",
     "text": [
      "Label dims:  (1191381, 6)    Output dims:  (1191381, 2)\n"
     ]
    }
   ],
   "source": [
    "#TransForming Data\n",
    "num_pipeline = Pipeline([\n",
    "    ('imputer',SimpleImputer(strategy=\"median\")),\n",
    "    ('std_scaler',StandardScaler()),\n",
    "])\n",
    "encoder = OneHotEncoder()\n",
    "\n",
    "X_train_tr,X_val_tr = num_pipeline.fit_transform(X_train),num_pipeline.fit_transform(X_val)\n",
    "y_train_tr,y_val_tr = encoder.fit_transform(trainData[['target']]).toarray(),encoder.fit_transform(valData[['target']]).toarray()\n",
    "X_test_ = num_pipeline.fit_transform(X_test)\n",
    "y_test_ = encoder.fit_transform(testdataset[['target']]).toarray()\n",
    "print('Label dims: ',X_train_tr.shape,'   Output dims: ',y_train_tr.shape)\n"
   ]
  },
  {
   "cell_type": "code",
   "execution_count": 13,
   "metadata": {},
   "outputs": [],
   "source": [
    "#Tuning DNN model\n",
    "\n",
    "def build_model(n_hidden=1,n_neurons=30,learning_rate=3e-3,input_shapes=[6]):\n",
    "    model = keras.models.Sequential()\n",
    "    model.add(keras.layers.Flatten(input_shape=input_shapes))\n",
    "    for layer in range(n_hidden):\n",
    "        model.add(keras.layers.Dense(n_neurons,activation='relu'))\n",
    "    model.add(keras.layers.Dense(2,activation='sigmoid'))\n",
    "    optimizer = keras.optimizers.SGD(lr=learning_rate)\n",
    "    model.compile(loss=\"mse\",optimizer=optimizer)\n",
    "    return model"
   ]
  },
  {
   "cell_type": "code",
   "execution_count": 14,
   "metadata": {},
   "outputs": [],
   "source": [
    "keras_reg = keras.wrappers.scikit_learn.KerasRegressor(build_model)\n"
   ]
  },
  {
   "cell_type": "code",
   "execution_count": 15,
   "metadata": {},
   "outputs": [
    {
     "data": {
      "text/plain": [
       "6"
      ]
     },
     "execution_count": 15,
     "metadata": {},
     "output_type": "execute_result"
    }
   ],
   "source": [
    "len(labels)"
   ]
  },
  {
   "cell_type": "code",
   "execution_count": 16,
   "metadata": {},
   "outputs": [
    {
     "name": "stdout",
     "output_type": "stream",
     "text": [
      "Epoch 1/10\n",
      "37231/37231 [==============================] - 78s 2ms/step - loss: 0.1858 - val_loss: 0.1643\n",
      "Epoch 2/10\n",
      "37231/37231 [==============================] - 78s 2ms/step - loss: 0.1600 - val_loss: 0.1559\n",
      "Epoch 3/10\n",
      "37231/37231 [==============================] - 79s 2ms/step - loss: 0.1554 - val_loss: 0.1532\n",
      "Epoch 4/10\n",
      "37231/37231 [==============================] - 79s 2ms/step - loss: 0.1533 - val_loss: 0.1515\n",
      "Epoch 5/10\n",
      "37231/37231 [==============================] - 80s 2ms/step - loss: 0.1518 - val_loss: 0.1501\n",
      "Epoch 6/10\n",
      "37231/37231 [==============================] - 77s 2ms/step - loss: 0.1505 - val_loss: 0.1489\n",
      "Epoch 7/10\n",
      "37231/37231 [==============================] - 76s 2ms/step - loss: 0.1494 - val_loss: 0.1479\n",
      "Epoch 8/10\n",
      "37231/37231 [==============================] - 76s 2ms/step - loss: 0.1486 - val_loss: 0.1471\n",
      "Epoch 9/10\n",
      "37231/37231 [==============================] - 77s 2ms/step - loss: 0.1479 - val_loss: 0.1465\n",
      "Epoch 10/10\n",
      "37231/37231 [==============================] - 78s 2ms/step - loss: 0.1473 - val_loss: 0.1459\n"
     ]
    },
    {
     "data": {
      "text/plain": [
       "<tensorflow.python.keras.callbacks.History at 0x7fa1681f8d60>"
      ]
     },
     "execution_count": 16,
     "metadata": {},
     "output_type": "execute_result"
    }
   ],
   "source": [
    "keras_reg.fit(X_train_tr,y_train,epochs=10,validation_data=(X_val_tr,y_val),callbacks=[keras.callbacks.EarlyStopping(patience=10)])"
   ]
  },
  {
   "cell_type": "code",
   "execution_count": 17,
   "metadata": {},
   "outputs": [
    {
     "name": "stdout",
     "output_type": "stream",
     "text": [
      "5171/5171 [==============================] - 9s 2ms/step - loss: 0.3494\n"
     ]
    }
   ],
   "source": [
    "mse_test = keras_reg.score(X_test_,y_test_)"
   ]
  },
  {
   "cell_type": "code",
   "execution_count": 18,
   "metadata": {},
   "outputs": [],
   "source": [
    "param_distribs={\n",
    "    'n_hidden':[1,2,3,4],\n",
    "    'n_neurons':np.arange(1,500),\n",
    "    'learning_rate':reciprocal(3e-4,3e-2),\n",
    "}"
   ]
  },
  {
   "cell_type": "code",
   "execution_count": 19,
   "metadata": {},
   "outputs": [],
   "source": [
    "rnd_search_cv=RandomizedSearchCV(keras_reg,param_distribs,n_iter=10,cv=3)"
   ]
  },
  {
   "cell_type": "code",
   "execution_count": 20,
   "metadata": {},
   "outputs": [
    {
     "name": "stdout",
     "output_type": "stream",
     "text": [
      "Epoch 1/10\n",
      "24821/24821 [==============================] - 60s 2ms/step - loss: 0.2101 - val_loss: 0.1913\n",
      "Epoch 2/10\n",
      "24821/24821 [==============================] - 59s 2ms/step - loss: 0.1840 - val_loss: 0.1767\n",
      "Epoch 3/10\n",
      "24821/24821 [==============================] - 60s 2ms/step - loss: 0.1726 - val_loss: 0.1677\n",
      "Epoch 4/10\n",
      "24821/24821 [==============================] - 60s 2ms/step - loss: 0.1654 - val_loss: 0.1621\n",
      "Epoch 5/10\n",
      "24821/24821 [==============================] - 60s 2ms/step - loss: 0.1611 - val_loss: 0.1587\n",
      "Epoch 6/10\n",
      "24821/24821 [==============================] - 60s 2ms/step - loss: 0.1584 - val_loss: 0.1565\n",
      "Epoch 7/10\n",
      "24821/24821 [==============================] - 60s 2ms/step - loss: 0.1566 - val_loss: 0.1550\n",
      "Epoch 8/10\n",
      "24821/24821 [==============================] - 58s 2ms/step - loss: 0.1554 - val_loss: 0.1540\n",
      "Epoch 9/10\n",
      "24821/24821 [==============================] - 60s 2ms/step - loss: 0.1544 - val_loss: 0.1531\n",
      "Epoch 10/10\n",
      "24821/24821 [==============================] - 60s 2ms/step - loss: 0.1537 - val_loss: 0.1525\n",
      "12411/12411 [==============================] - 20s 2ms/step - loss: 0.1536\n",
      "Epoch 1/10\n",
      "24821/24821 [==============================] - 60s 2ms/step - loss: 0.2080 - val_loss: 0.1883\n",
      "Epoch 2/10\n",
      "24821/24821 [==============================] - 60s 2ms/step - loss: 0.1811 - val_loss: 0.1738\n",
      "Epoch 3/10\n",
      "24821/24821 [==============================] - 60s 2ms/step - loss: 0.1700 - val_loss: 0.1655\n",
      "Epoch 4/10\n",
      "24821/24821 [==============================] - 60s 2ms/step - loss: 0.1637 - val_loss: 0.1607\n",
      "Epoch 5/10\n",
      "24821/24821 [==============================] - 60s 2ms/step - loss: 0.1601 - val_loss: 0.1579\n",
      "Epoch 6/10\n",
      "24821/24821 [==============================] - 60s 2ms/step - loss: 0.1579 - val_loss: 0.1561\n",
      "Epoch 7/10\n",
      "24821/24821 [==============================] - 60s 2ms/step - loss: 0.1565 - val_loss: 0.1549\n",
      "Epoch 8/10\n",
      "24821/24821 [==============================] - 60s 2ms/step - loss: 0.1554 - val_loss: 0.1539\n",
      "Epoch 9/10\n",
      "24821/24821 [==============================] - 60s 2ms/step - loss: 0.1546 - val_loss: 0.1532\n",
      "Epoch 10/10\n",
      "24821/24821 [==============================] - 60s 2ms/step - loss: 0.1539 - val_loss: 0.1525\n",
      "12411/12411 [==============================] - 20s 2ms/step - loss: 0.1533\n",
      "Epoch 1/10\n",
      "24821/24821 [==============================] - 60s 2ms/step - loss: 0.2064 - val_loss: 0.1887\n",
      "Epoch 2/10\n",
      "24821/24821 [==============================] - 60s 2ms/step - loss: 0.1816 - val_loss: 0.1748\n",
      "Epoch 3/10\n",
      "24821/24821 [==============================] - 60s 2ms/step - loss: 0.1711 - val_loss: 0.1667\n",
      "Epoch 4/10\n",
      "24821/24821 [==============================] - 59s 2ms/step - loss: 0.1650 - val_loss: 0.1620\n",
      "Epoch 5/10\n",
      "24821/24821 [==============================] - 60s 2ms/step - loss: 0.1613 - val_loss: 0.1591\n",
      "Epoch 6/10\n",
      "24821/24821 [==============================] - 60s 2ms/step - loss: 0.1590 - val_loss: 0.1571\n",
      "Epoch 7/10\n",
      "24821/24821 [==============================] - 60s 2ms/step - loss: 0.1574 - val_loss: 0.1558\n",
      "Epoch 8/10\n",
      "24821/24821 [==============================] - 60s 2ms/step - loss: 0.1562 - val_loss: 0.1547\n",
      "Epoch 9/10\n",
      "24821/24821 [==============================] - 60s 2ms/step - loss: 0.1553 - val_loss: 0.1539\n",
      "Epoch 10/10\n",
      "24821/24821 [==============================] - 60s 2ms/step - loss: 0.1546 - val_loss: 0.1532\n",
      "12411/12411 [==============================] - 20s 2ms/step - loss: 0.1543\n",
      "Epoch 1/10\n",
      "24821/24821 [==============================] - 75s 3ms/step - loss: 0.2035 - val_loss: 0.1808\n",
      "Epoch 2/10\n",
      "24821/24821 [==============================] - 76s 3ms/step - loss: 0.1706 - val_loss: 0.1611\n",
      "Epoch 3/10\n",
      "24821/24821 [==============================] - 76s 3ms/step - loss: 0.1576 - val_loss: 0.1539\n",
      "Epoch 4/10\n",
      "24821/24821 [==============================] - 76s 3ms/step - loss: 0.1534 - val_loss: 0.1514\n",
      "Epoch 5/10\n",
      "24821/24821 [==============================] - 75s 3ms/step - loss: 0.1516 - val_loss: 0.1499\n",
      "Epoch 6/10\n",
      "24821/24821 [==============================] - 75s 3ms/step - loss: 0.1503 - val_loss: 0.1487\n",
      "Epoch 7/10\n",
      "24821/24821 [==============================] - 75s 3ms/step - loss: 0.1493 - val_loss: 0.1478\n",
      "Epoch 8/10\n",
      "24821/24821 [==============================] - 76s 3ms/step - loss: 0.1484 - val_loss: 0.1470\n",
      "Epoch 9/10\n",
      "24821/24821 [==============================] - 76s 3ms/step - loss: 0.1477 - val_loss: 0.1463\n",
      "Epoch 10/10\n",
      "24821/24821 [==============================] - 76s 3ms/step - loss: 0.1471 - val_loss: 0.1457\n",
      "12411/12411 [==============================] - 22s 2ms/step - loss: 0.1470\n",
      "Epoch 1/10\n",
      "24821/24821 [==============================] - 76s 3ms/step - loss: 0.2089 - val_loss: 0.1827\n",
      "Epoch 2/10\n",
      "24821/24821 [==============================] - 75s 3ms/step - loss: 0.1722 - val_loss: 0.1627\n",
      "Epoch 3/10\n",
      "24821/24821 [==============================] - 76s 3ms/step - loss: 0.1591 - val_loss: 0.1549\n",
      "Epoch 4/10\n",
      "24821/24821 [==============================] - 76s 3ms/step - loss: 0.1543 - val_loss: 0.1520\n",
      "Epoch 5/10\n",
      "24821/24821 [==============================] - 75s 3ms/step - loss: 0.1522 - val_loss: 0.1503\n",
      "Epoch 6/10\n",
      "24821/24821 [==============================] - 75s 3ms/step - loss: 0.1507 - val_loss: 0.1490\n",
      "Epoch 7/10\n",
      "24821/24821 [==============================] - 75s 3ms/step - loss: 0.1496 - val_loss: 0.1480\n",
      "Epoch 8/10\n",
      "24821/24821 [==============================] - 75s 3ms/step - loss: 0.1487 - val_loss: 0.1472\n",
      "Epoch 9/10\n",
      "24821/24821 [==============================] - 75s 3ms/step - loss: 0.1480 - val_loss: 0.1465\n",
      "Epoch 10/10\n",
      "24821/24821 [==============================] - 75s 3ms/step - loss: 0.1474 - val_loss: 0.1460\n",
      "12411/12411 [==============================] - 22s 2ms/step - loss: 0.1470\n",
      "Epoch 1/10\n",
      "24821/24821 [==============================] - 76s 3ms/step - loss: 0.2096 - val_loss: 0.1802\n",
      "Epoch 2/10\n",
      "24821/24821 [==============================] - 75s 3ms/step - loss: 0.1677 - val_loss: 0.1585\n",
      "Epoch 3/10\n",
      "24821/24821 [==============================] - 75s 3ms/step - loss: 0.1561 - val_loss: 0.1529\n",
      "Epoch 4/10\n",
      "24821/24821 [==============================] - 75s 3ms/step - loss: 0.1526 - val_loss: 0.1505\n",
      "Epoch 5/10\n",
      "24821/24821 [==============================] - 57s 2ms/step - loss: 0.1507 - val_loss: 0.1490\n",
      "Epoch 6/10\n",
      "24821/24821 [==============================] - 38s 2ms/step - loss: 0.1495 - val_loss: 0.1479\n",
      "Epoch 7/10\n",
      "24821/24821 [==============================] - 43s 2ms/step - loss: 0.1486 - val_loss: 0.1470\n",
      "Epoch 8/10\n",
      "24821/24821 [==============================] - 38s 2ms/step - loss: 0.1478 - val_loss: 0.1464\n",
      "Epoch 9/10\n",
      "24821/24821 [==============================] - 44s 2ms/step - loss: 0.1472 - val_loss: 0.1458\n",
      "Epoch 10/10\n",
      "24821/24821 [==============================] - 39s 2ms/step - loss: 0.1467 - val_loss: 0.1454\n",
      "12411/12411 [==============================] - 13s 1ms/step - loss: 0.1464\n",
      "Epoch 1/10\n",
      "24821/24821 [==============================] - 37s 1ms/step - loss: 0.2252 - val_loss: 0.2102\n",
      "Epoch 2/10\n",
      "24821/24821 [==============================] - 31s 1ms/step - loss: 0.2033 - val_loss: 0.1974\n",
      "Epoch 3/10\n",
      "24821/24821 [==============================] - 35s 1ms/step - loss: 0.1940 - val_loss: 0.1903\n",
      "Epoch 4/10\n",
      "24821/24821 [==============================] - 36s 1ms/step - loss: 0.1881 - val_loss: 0.1852\n",
      "Epoch 5/10\n",
      "24821/24821 [==============================] - 31s 1ms/step - loss: 0.1837 - val_loss: 0.1812\n",
      "Epoch 6/10\n",
      "24821/24821 [==============================] - 36s 1ms/step - loss: 0.1800 - val_loss: 0.1777\n",
      "Epoch 7/10\n",
      "24821/24821 [==============================] - 35s 1ms/step - loss: 0.1768 - val_loss: 0.1747\n",
      "Epoch 8/10\n",
      "24821/24821 [==============================] - 32s 1ms/step - loss: 0.1741 - val_loss: 0.1721\n",
      "Epoch 9/10\n",
      "24821/24821 [==============================] - 37s 1ms/step - loss: 0.1716 - val_loss: 0.1698\n",
      "Epoch 10/10\n",
      "24821/24821 [==============================] - 34s 1ms/step - loss: 0.1695 - val_loss: 0.1678\n",
      "12411/12411 [==============================] - 10s 802us/step - loss: 0.1687\n",
      "Epoch 1/10\n",
      "24821/24821 [==============================] - 36s 1ms/step - loss: 0.2306 - val_loss: 0.2141\n",
      "Epoch 2/10\n",
      "24821/24821 [==============================] - 37s 1ms/step - loss: 0.2067 - val_loss: 0.2002\n",
      "Epoch 3/10\n",
      "24821/24821 [==============================] - 33s 1ms/step - loss: 0.1965 - val_loss: 0.1923\n"
     ]
    },
    {
     "name": "stdout",
     "output_type": "stream",
     "text": [
      "Epoch 4/10\n",
      "24821/24821 [==============================] - 35s 1ms/step - loss: 0.1899 - val_loss: 0.1866\n",
      "Epoch 5/10\n",
      "24821/24821 [==============================] - 36s 1ms/step - loss: 0.1849 - val_loss: 0.1820\n",
      "Epoch 6/10\n",
      "24821/24821 [==============================] - 33s 1ms/step - loss: 0.1808 - val_loss: 0.1782\n",
      "Epoch 7/10\n",
      "24821/24821 [==============================] - 36s 1ms/step - loss: 0.1773 - val_loss: 0.1749\n",
      "Epoch 8/10\n",
      "24821/24821 [==============================] - 36s 1ms/step - loss: 0.1743 - val_loss: 0.1721\n",
      "Epoch 9/10\n",
      "24821/24821 [==============================] - 33s 1ms/step - loss: 0.1717 - val_loss: 0.1697\n",
      "Epoch 10/10\n",
      "24821/24821 [==============================] - 37s 1ms/step - loss: 0.1695 - val_loss: 0.1677\n",
      "12411/12411 [==============================] - 12s 976us/step - loss: 0.1683\n",
      "Epoch 1/10\n",
      "24821/24821 [==============================] - 36s 1ms/step - loss: 0.2267 - val_loss: 0.2117\n",
      "Epoch 2/10\n",
      "24821/24821 [==============================] - 35s 1ms/step - loss: 0.2047 - val_loss: 0.1988\n",
      "Epoch 3/10\n",
      "24821/24821 [==============================] - 37s 1ms/step - loss: 0.1951 - val_loss: 0.1913\n",
      "Epoch 4/10\n",
      "24821/24821 [==============================] - 36s 1ms/step - loss: 0.1888 - val_loss: 0.1857\n",
      "Epoch 5/10\n",
      "24821/24821 [==============================] - 36s 1ms/step - loss: 0.1839 - val_loss: 0.1813\n",
      "Epoch 6/10\n",
      "24821/24821 [==============================] - 35s 1ms/step - loss: 0.1799 - val_loss: 0.1774\n",
      "Epoch 7/10\n",
      "24821/24821 [==============================] - 38s 2ms/step - loss: 0.1764 - val_loss: 0.1742\n",
      "Epoch 8/10\n",
      "24821/24821 [==============================] - 35s 1ms/step - loss: 0.1734 - val_loss: 0.1714\n",
      "Epoch 9/10\n",
      "24821/24821 [==============================] - 37s 1ms/step - loss: 0.1708 - val_loss: 0.1690\n",
      "Epoch 10/10\n",
      "24821/24821 [==============================] - 36s 1ms/step - loss: 0.1686 - val_loss: 0.1669\n",
      "12411/12411 [==============================] - 12s 970us/step - loss: 0.1677\n",
      "Epoch 1/10\n",
      "24821/24821 [==============================] - 58s 2ms/step - loss: 0.1535 - val_loss: 0.1446\n",
      "Epoch 2/10\n",
      "24821/24821 [==============================] - 55s 2ms/step - loss: 0.1448 - val_loss: 0.1432\n",
      "Epoch 3/10\n",
      "24821/24821 [==============================] - 55s 2ms/step - loss: 0.1441 - val_loss: 0.1430\n",
      "Epoch 4/10\n",
      "24821/24821 [==============================] - 57s 2ms/step - loss: 0.1439 - val_loss: 0.1430\n",
      "Epoch 5/10\n",
      "24821/24821 [==============================] - 57s 2ms/step - loss: 0.1438 - val_loss: 0.1430\n",
      "Epoch 6/10\n",
      "24821/24821 [==============================] - 55s 2ms/step - loss: 0.1437 - val_loss: 0.1428\n",
      "Epoch 7/10\n",
      "24821/24821 [==============================] - 54s 2ms/step - loss: 0.1437 - val_loss: 0.1428\n",
      "Epoch 8/10\n",
      "24821/24821 [==============================] - 57s 2ms/step - loss: 0.1436 - val_loss: 0.1428\n",
      "Epoch 9/10\n",
      "24821/24821 [==============================] - 57s 2ms/step - loss: 0.1436 - val_loss: 0.1428\n",
      "Epoch 10/10\n",
      "24821/24821 [==============================] - 55s 2ms/step - loss: 0.1435 - val_loss: 0.1431\n",
      "12411/12411 [==============================] - 16s 1ms/step - loss: 0.1441\n",
      "Epoch 1/10\n",
      "24821/24821 [==============================] - 58s 2ms/step - loss: 0.1542 - val_loss: 0.1448\n",
      "Epoch 2/10\n",
      "24821/24821 [==============================] - 55s 2ms/step - loss: 0.1450 - val_loss: 0.1435\n",
      "Epoch 3/10\n",
      "24821/24821 [==============================] - 57s 2ms/step - loss: 0.1443 - val_loss: 0.1430\n",
      "Epoch 4/10\n",
      "24821/24821 [==============================] - 55s 2ms/step - loss: 0.1441 - val_loss: 0.1429\n",
      "Epoch 5/10\n",
      "24821/24821 [==============================] - 56s 2ms/step - loss: 0.1440 - val_loss: 0.1428\n",
      "Epoch 6/10\n",
      "24821/24821 [==============================] - 55s 2ms/step - loss: 0.1439 - val_loss: 0.1427\n",
      "Epoch 7/10\n",
      "24821/24821 [==============================] - 55s 2ms/step - loss: 0.1439 - val_loss: 0.1427\n",
      "Epoch 8/10\n",
      "24821/24821 [==============================] - 56s 2ms/step - loss: 0.1438 - val_loss: 0.1430\n",
      "Epoch 9/10\n",
      "24821/24821 [==============================] - 55s 2ms/step - loss: 0.1438 - val_loss: 0.1429\n",
      "Epoch 10/10\n",
      "24821/24821 [==============================] - 55s 2ms/step - loss: 0.1437 - val_loss: 0.1427\n",
      "12411/12411 [==============================] - 15s 1ms/step - loss: 0.1436\n",
      "Epoch 1/10\n",
      "24821/24821 [==============================] - 53s 2ms/step - loss: 0.1541 - val_loss: 0.1449\n",
      "Epoch 2/10\n",
      "24821/24821 [==============================] - 54s 2ms/step - loss: 0.1451 - val_loss: 0.1434\n",
      "Epoch 3/10\n",
      "24821/24821 [==============================] - 52s 2ms/step - loss: 0.1443 - val_loss: 0.1430\n",
      "Epoch 4/10\n",
      "24821/24821 [==============================] - 54s 2ms/step - loss: 0.1441 - val_loss: 0.1429\n",
      "Epoch 5/10\n",
      "24821/24821 [==============================] - 52s 2ms/step - loss: 0.1439 - val_loss: 0.1428\n",
      "Epoch 6/10\n",
      "24821/24821 [==============================] - 55s 2ms/step - loss: 0.1439 - val_loss: 0.1428\n",
      "Epoch 7/10\n",
      "24821/24821 [==============================] - 54s 2ms/step - loss: 0.1438 - val_loss: 0.1432\n",
      "Epoch 8/10\n",
      "24821/24821 [==============================] - 54s 2ms/step - loss: 0.1438 - val_loss: 0.1430\n",
      "Epoch 9/10\n",
      "24821/24821 [==============================] - 53s 2ms/step - loss: 0.1437 - val_loss: 0.1427\n",
      "Epoch 10/10\n",
      "24821/24821 [==============================] - 54s 2ms/step - loss: 0.1437 - val_loss: 0.1431\n",
      "12411/12411 [==============================] - 14s 1ms/step - loss: 0.1439\n",
      "Epoch 1/10\n",
      "24821/24821 [==============================] - 63s 3ms/step - loss: 0.1819 - val_loss: 0.1586\n",
      "Epoch 2/10\n",
      "24821/24821 [==============================] - 64s 3ms/step - loss: 0.1553 - val_loss: 0.1518\n",
      "Epoch 3/10\n",
      "24821/24821 [==============================] - 63s 3ms/step - loss: 0.1514 - val_loss: 0.1492\n",
      "Epoch 4/10\n",
      "24821/24821 [==============================] - 63s 3ms/step - loss: 0.1493 - val_loss: 0.1475\n",
      "Epoch 5/10\n",
      "24821/24821 [==============================] - 63s 3ms/step - loss: 0.1478 - val_loss: 0.1462\n",
      "Epoch 6/10\n",
      "24821/24821 [==============================] - 63s 3ms/step - loss: 0.1468 - val_loss: 0.1454\n",
      "Epoch 7/10\n",
      "24821/24821 [==============================] - 64s 3ms/step - loss: 0.1461 - val_loss: 0.1448\n",
      "Epoch 8/10\n",
      "24821/24821 [==============================] - 63s 3ms/step - loss: 0.1456 - val_loss: 0.1444\n",
      "Epoch 9/10\n",
      "24821/24821 [==============================] - 63s 3ms/step - loss: 0.1452 - val_loss: 0.1441\n",
      "Epoch 10/10\n",
      "24821/24821 [==============================] - 63s 3ms/step - loss: 0.1449 - val_loss: 0.1438\n",
      "12411/12411 [==============================] - 16s 1ms/step - loss: 0.1451\n",
      "Epoch 1/10\n",
      "24821/24821 [==============================] - 64s 3ms/step - loss: 0.1825 - val_loss: 0.1592\n",
      "Epoch 2/10\n",
      "24821/24821 [==============================] - 64s 3ms/step - loss: 0.1556 - val_loss: 0.1519\n",
      "Epoch 3/10\n",
      "24821/24821 [==============================] - 76s 3ms/step - loss: 0.1516 - val_loss: 0.1492\n",
      "Epoch 4/10\n",
      "24821/24821 [==============================] - 75s 3ms/step - loss: 0.1494 - val_loss: 0.1474\n",
      "Epoch 5/10\n",
      "24821/24821 [==============================] - 79s 3ms/step - loss: 0.1469 - val_loss: 0.1453\n",
      "Epoch 7/10\n",
      "24821/24821 [==============================] - 81s 3ms/step - loss: 0.1462 - val_loss: 0.1447\n",
      "Epoch 8/10\n",
      "24821/24821 [==============================] - 75s 3ms/step - loss: 0.1457 - val_loss: 0.1442\n",
      "Epoch 9/10\n",
      "24821/24821 [==============================] - 72s 3ms/step - loss: 0.1453 - val_loss: 0.1439\n",
      "Epoch 10/10\n",
      "24821/24821 [==============================] - 69s 3ms/step - loss: 0.1450 - val_loss: 0.1437\n",
      "12411/12411 [==============================] - 17s 1ms/step - loss: 0.1446\n",
      "Epoch 1/10\n",
      "24821/24821 [==============================] - 66s 3ms/step - loss: 0.1825 - val_loss: 0.1594\n",
      "Epoch 2/10\n",
      "24821/24821 [==============================] - 63s 3ms/step - loss: 0.1557 - val_loss: 0.1519\n",
      "Epoch 3/10\n",
      "24821/24821 [==============================] - 66s 3ms/step - loss: 0.1515 - val_loss: 0.1492\n",
      "Epoch 4/10\n",
      "24821/24821 [==============================] - 63s 3ms/step - loss: 0.1493 - val_loss: 0.1474\n",
      "Epoch 5/10\n",
      "24821/24821 [==============================] - 59s 2ms/step - loss: 0.1479 - val_loss: 0.1462\n",
      "Epoch 6/10\n",
      "24821/24821 [==============================] - 56s 2ms/step - loss: 0.1469 - val_loss: 0.1453\n",
      "Epoch 7/10\n",
      "24821/24821 [==============================] - 57s 2ms/step - loss: 0.1462 - val_loss: 0.1447\n"
     ]
    },
    {
     "name": "stdout",
     "output_type": "stream",
     "text": [
      "Epoch 8/10\n",
      "24821/24821 [==============================] - 59s 2ms/step - loss: 0.1456 - val_loss: 0.1443\n",
      "Epoch 9/10\n",
      "24821/24821 [==============================] - 57s 2ms/step - loss: 0.1452 - val_loss: 0.1440\n",
      "Epoch 10/10\n",
      "24821/24821 [==============================] - 56s 2ms/step - loss: 0.1450 - val_loss: 0.1437\n",
      "12411/12411 [==============================] - 15s 1ms/step - loss: 0.1447\n",
      "Epoch 1/10\n",
      "24821/24821 [==============================] - 52s 2ms/step - loss: 0.2228 - val_loss: 0.1970\n",
      "Epoch 2/10\n",
      "24821/24821 [==============================] - 52s 2ms/step - loss: 0.1808 - val_loss: 0.1680\n",
      "Epoch 3/10\n",
      "24821/24821 [==============================] - 48s 2ms/step - loss: 0.1624 - val_loss: 0.1573\n",
      "Epoch 4/10\n",
      "24821/24821 [==============================] - 52s 2ms/step - loss: 0.1560 - val_loss: 0.1535\n",
      "Epoch 5/10\n",
      "24821/24821 [==============================] - 50s 2ms/step - loss: 0.1533 - val_loss: 0.1514\n",
      "Epoch 6/10\n",
      "24821/24821 [==============================] - 49s 2ms/step - loss: 0.1517 - val_loss: 0.1500\n",
      "Epoch 7/10\n",
      "24821/24821 [==============================] - 53s 2ms/step - loss: 0.1504 - val_loss: 0.1489\n",
      "Epoch 8/10\n",
      "24821/24821 [==============================] - 47s 2ms/step - loss: 0.1494 - val_loss: 0.1479\n",
      "Epoch 9/10\n",
      "24821/24821 [==============================] - 53s 2ms/step - loss: 0.1485 - val_loss: 0.1472\n",
      "Epoch 10/10\n",
      "24821/24821 [==============================] - 51s 2ms/step - loss: 0.1479 - val_loss: 0.1465\n",
      "12411/12411 [==============================] - 15s 1ms/step - loss: 0.1479\n",
      "Epoch 1/10\n",
      "24821/24821 [==============================] - 46s 2ms/step - loss: 0.2283 - val_loss: 0.2052\n",
      "Epoch 2/10\n",
      "24821/24821 [==============================] - 52s 2ms/step - loss: 0.1872 - val_loss: 0.1728\n",
      "Epoch 3/10\n",
      "24821/24821 [==============================] - 50s 2ms/step - loss: 0.1656 - val_loss: 0.1591\n",
      "Epoch 4/10\n",
      "24821/24821 [==============================] - 56s 2ms/step - loss: 0.1573 - val_loss: 0.1544\n",
      "Epoch 5/10\n",
      "24821/24821 [==============================] - 54s 2ms/step - loss: 0.1543 - val_loss: 0.1523\n",
      "Epoch 6/10\n",
      "24821/24821 [==============================] - 48s 2ms/step - loss: 0.1526 - val_loss: 0.1508\n",
      "Epoch 7/10\n",
      "24821/24821 [==============================] - 56s 2ms/step - loss: 0.1513 - val_loss: 0.1496\n",
      "Epoch 8/10\n",
      "24821/24821 [==============================] - 53s 2ms/step - loss: 0.1502 - val_loss: 0.1485\n",
      "Epoch 9/10\n",
      "24821/24821 [==============================] - 52s 2ms/step - loss: 0.1493 - val_loss: 0.1477\n",
      "Epoch 10/10\n",
      "24821/24821 [==============================] - 57s 2ms/step - loss: 0.1485 - val_loss: 0.1469\n",
      "12411/12411 [==============================] - 15s 1ms/step - loss: 0.1479\n",
      "Epoch 1/10\n",
      "24821/24821 [==============================] - 52s 2ms/step - loss: 0.2247 - val_loss: 0.2014\n",
      "Epoch 2/10\n",
      "24821/24821 [==============================] - 55s 2ms/step - loss: 0.1860 - val_loss: 0.1732\n",
      "Epoch 3/10\n",
      "24821/24821 [==============================] - 55s 2ms/step - loss: 0.1652 - val_loss: 0.1579\n",
      "Epoch 4/10\n",
      "24821/24821 [==============================] - 52s 2ms/step - loss: 0.1558 - val_loss: 0.1528\n",
      "Epoch 5/10\n",
      "24821/24821 [==============================] - 60s 2ms/step - loss: 0.1527 - val_loss: 0.1507\n",
      "Epoch 6/10\n",
      "24821/24821 [==============================] - 56s 2ms/step - loss: 0.1512 - val_loss: 0.1494\n",
      "Epoch 7/10\n",
      "24821/24821 [==============================] - 56s 2ms/step - loss: 0.1501 - val_loss: 0.1485\n",
      "Epoch 8/10\n",
      "24821/24821 [==============================] - 58s 2ms/step - loss: 0.1492 - val_loss: 0.1477\n",
      "Epoch 9/10\n",
      "24821/24821 [==============================] - 56s 2ms/step - loss: 0.1485 - val_loss: 0.1470\n",
      "Epoch 10/10\n",
      "24821/24821 [==============================] - 54s 2ms/step - loss: 0.1479 - val_loss: 0.1465\n",
      "12411/12411 [==============================] - 17s 1ms/step - loss: 0.1475\n",
      "Epoch 1/10\n",
      "24821/24821 [==============================] - 38s 2ms/step - loss: 0.1977 - val_loss: 0.1774\n",
      "Epoch 2/10\n",
      "24821/24821 [==============================] - 38s 2ms/step - loss: 0.1702 - val_loss: 0.1637\n",
      "Epoch 3/10\n",
      "24821/24821 [==============================] - 38s 2ms/step - loss: 0.1615 - val_loss: 0.1583\n",
      "Epoch 4/10\n",
      "24821/24821 [==============================] - 35s 1ms/step - loss: 0.1577 - val_loss: 0.1557\n",
      "Epoch 5/10\n",
      "24821/24821 [==============================] - 49s 2ms/step - loss: 0.1558 - val_loss: 0.1541\n",
      "Epoch 6/10\n",
      "24821/24821 [==============================] - 45s 2ms/step - loss: 0.1545 - val_loss: 0.1530\n",
      "Epoch 7/10\n",
      "24821/24821 [==============================] - 44s 2ms/step - loss: 0.1535 - val_loss: 0.1522\n",
      "Epoch 8/10\n",
      "24821/24821 [==============================] - 37s 2ms/step - loss: 0.1527 - val_loss: 0.1514\n",
      "Epoch 9/10\n",
      "24821/24821 [==============================] - 40s 2ms/step - loss: 0.1520 - val_loss: 0.1507\n",
      "Epoch 10/10\n",
      "24821/24821 [==============================] - 35s 1ms/step - loss: 0.1514 - val_loss: 0.1501\n",
      "12411/12411 [==============================] - 12s 964us/step - loss: 0.1513\n",
      "Epoch 1/10\n",
      "24821/24821 [==============================] - 41s 2ms/step - loss: 0.1955 - val_loss: 0.1767\n",
      "Epoch 2/10\n",
      "24821/24821 [==============================] - 37s 1ms/step - loss: 0.1701 - val_loss: 0.1636\n",
      "Epoch 3/10\n",
      "24821/24821 [==============================] - 40s 2ms/step - loss: 0.1615 - val_loss: 0.1581\n",
      "Epoch 4/10\n",
      "24821/24821 [==============================] - 39s 2ms/step - loss: 0.1577 - val_loss: 0.1555\n",
      "Epoch 5/10\n",
      "24821/24821 [==============================] - 36s 1ms/step - loss: 0.1557 - val_loss: 0.1539\n",
      "Epoch 6/10\n",
      "24821/24821 [==============================] - 41s 2ms/step - loss: 0.1544 - val_loss: 0.1527\n",
      "Epoch 7/10\n",
      "24821/24821 [==============================] - 42s 2ms/step - loss: 0.1534 - val_loss: 0.1518\n",
      "Epoch 8/10\n",
      "24821/24821 [==============================] - 41s 2ms/step - loss: 0.1525 - val_loss: 0.1510\n",
      "Epoch 9/10\n",
      "24821/24821 [==============================] - 44s 2ms/step - loss: 0.1518 - val_loss: 0.1503\n",
      "Epoch 10/10\n",
      "24821/24821 [==============================] - 43s 2ms/step - loss: 0.1511 - val_loss: 0.1496\n",
      "12411/12411 [==============================] - 15s 1ms/step - loss: 0.1505\n",
      "Epoch 1/10\n",
      "24821/24821 [==============================] - 44s 2ms/step - loss: 0.1981 - val_loss: 0.1784\n",
      "Epoch 2/10\n",
      "24821/24821 [==============================] - 43s 2ms/step - loss: 0.1712 - val_loss: 0.1646\n",
      "Epoch 3/10\n",
      "24821/24821 [==============================] - 38s 2ms/step - loss: 0.1621 - val_loss: 0.1587\n",
      "Epoch 4/10\n",
      "24821/24821 [==============================] - 37s 2ms/step - loss: 0.1581 - val_loss: 0.1559\n",
      "Epoch 5/10\n",
      "24821/24821 [==============================] - 35s 1ms/step - loss: 0.1559 - val_loss: 0.1541\n",
      "Epoch 6/10\n",
      "24821/24821 [==============================] - 40s 2ms/step - loss: 0.1545 - val_loss: 0.1529\n",
      "Epoch 7/10\n",
      "24821/24821 [==============================] - 34s 1ms/step - loss: 0.1534 - val_loss: 0.1519\n",
      "Epoch 8/10\n",
      "24821/24821 [==============================] - 38s 2ms/step - loss: 0.1525 - val_loss: 0.1511\n",
      "Epoch 9/10\n",
      "24821/24821 [==============================] - 37s 1ms/step - loss: 0.1518 - val_loss: 0.1504\n",
      "Epoch 10/10\n",
      "24821/24821 [==============================] - 36s 1ms/step - loss: 0.1511 - val_loss: 0.1497\n",
      "12411/12411 [==============================] - 13s 1ms/step - loss: 0.1508\n",
      "Epoch 1/10\n",
      "24821/24821 [==============================] - 46s 2ms/step - loss: 0.2216 - val_loss: 0.1969\n",
      "Epoch 2/10\n",
      "24821/24821 [==============================] - 48s 2ms/step - loss: 0.1833 - val_loss: 0.1714\n",
      "Epoch 3/10\n",
      "24821/24821 [==============================] - 44s 2ms/step - loss: 0.1639 - val_loss: 0.1573\n",
      "Epoch 4/10\n",
      "24821/24821 [==============================] - 51s 2ms/step - loss: 0.1557 - val_loss: 0.1531\n",
      "Epoch 5/10\n",
      "24821/24821 [==============================] - 44s 2ms/step - loss: 0.1531 - val_loss: 0.1513\n",
      "Epoch 6/10\n",
      "24821/24821 [==============================] - 49s 2ms/step - loss: 0.1517 - val_loss: 0.1501\n",
      "Epoch 7/10\n",
      "24821/24821 [==============================] - 47s 2ms/step - loss: 0.1507 - val_loss: 0.1492\n",
      "Epoch 8/10\n",
      "24821/24821 [==============================] - 54s 2ms/step - loss: 0.1498 - val_loss: 0.1484\n",
      "Epoch 9/10\n",
      "24821/24821 [==============================] - 57s 2ms/step - loss: 0.1491 - val_loss: 0.1477\n",
      "Epoch 10/10\n",
      "24821/24821 [==============================] - 49s 2ms/step - loss: 0.1485 - val_loss: 0.1472\n"
     ]
    },
    {
     "name": "stdout",
     "output_type": "stream",
     "text": [
      "12411/12411 [==============================] - 15s 1ms/step - loss: 0.1485\n",
      "Epoch 1/10\n",
      "24821/24821 [==============================] - 44s 2ms/step - loss: 0.2232 - val_loss: 0.1989\n",
      "Epoch 2/10\n",
      "24821/24821 [==============================] - 47s 2ms/step - loss: 0.1851 - val_loss: 0.1740\n",
      "Epoch 3/10\n",
      "24821/24821 [==============================] - 41s 2ms/step - loss: 0.1669 - val_loss: 0.1595\n",
      "Epoch 4/10\n",
      "24821/24821 [==============================] - 46s 2ms/step - loss: 0.1568 - val_loss: 0.1532\n",
      "Epoch 5/10\n",
      "24821/24821 [==============================] - 43s 2ms/step - loss: 0.1531 - val_loss: 0.1509\n",
      "Epoch 6/10\n",
      "24821/24821 [==============================] - 47s 2ms/step - loss: 0.1514 - val_loss: 0.1497\n",
      "Epoch 7/10\n",
      "24821/24821 [==============================] - 44s 2ms/step - loss: 0.1504 - val_loss: 0.1487\n",
      "Epoch 8/10\n",
      "24821/24821 [==============================] - 55s 2ms/step - loss: 0.1495 - val_loss: 0.1479\n",
      "Epoch 9/10\n",
      "24821/24821 [==============================] - 46s 2ms/step - loss: 0.1488 - val_loss: 0.1473\n",
      "Epoch 10/10\n",
      "24821/24821 [==============================] - 51s 2ms/step - loss: 0.1482 - val_loss: 0.1467\n",
      "12411/12411 [==============================] - 13s 1ms/step - loss: 0.1476\n",
      "Epoch 1/10\n",
      "24821/24821 [==============================] - 46s 2ms/step - loss: 0.2204 - val_loss: 0.1946\n",
      "Epoch 2/10\n",
      "24821/24821 [==============================] - 50s 2ms/step - loss: 0.1788 - val_loss: 0.1659\n",
      "Epoch 3/10\n",
      "24821/24821 [==============================] - 47s 2ms/step - loss: 0.1610 - val_loss: 0.1565\n",
      "Epoch 4/10\n",
      "24821/24821 [==============================] - 50s 2ms/step - loss: 0.1558 - val_loss: 0.1535\n",
      "Epoch 5/10\n",
      "24821/24821 [==============================] - 47s 2ms/step - loss: 0.1537 - val_loss: 0.1519\n",
      "Epoch 6/10\n",
      "24821/24821 [==============================] - 50s 2ms/step - loss: 0.1522 - val_loss: 0.1505\n",
      "Epoch 7/10\n",
      "24821/24821 [==============================] - 47s 2ms/step - loss: 0.1510 - val_loss: 0.1494\n",
      "Epoch 8/10\n",
      "24821/24821 [==============================] - 50s 2ms/step - loss: 0.1500 - val_loss: 0.1485\n",
      "Epoch 9/10\n",
      "24821/24821 [==============================] - 47s 2ms/step - loss: 0.1491 - val_loss: 0.1477\n",
      "Epoch 10/10\n",
      "24821/24821 [==============================] - 50s 2ms/step - loss: 0.1484 - val_loss: 0.1469\n",
      "12411/12411 [==============================] - 13s 1ms/step - loss: 0.1480\n",
      "Epoch 1/10\n",
      "24821/24821 [==============================] - 40s 2ms/step - loss: 0.1829 - val_loss: 0.1602\n",
      "Epoch 2/10\n",
      "24821/24821 [==============================] - 38s 2ms/step - loss: 0.1560 - val_loss: 0.1523\n",
      "Epoch 3/10\n",
      "24821/24821 [==============================] - 36s 1ms/step - loss: 0.1518 - val_loss: 0.1496\n",
      "Epoch 4/10\n",
      "24821/24821 [==============================] - 42s 2ms/step - loss: 0.1496 - val_loss: 0.1478\n",
      "Epoch 5/10\n",
      "24821/24821 [==============================] - 35s 1ms/step - loss: 0.1481 - val_loss: 0.1465\n",
      "Epoch 6/10\n",
      "24821/24821 [==============================] - 39s 2ms/step - loss: 0.1470 - val_loss: 0.1456\n",
      "Epoch 7/10\n",
      "24821/24821 [==============================] - 39s 2ms/step - loss: 0.1463 - val_loss: 0.1450\n",
      "Epoch 8/10\n",
      "24821/24821 [==============================] - 37s 2ms/step - loss: 0.1457 - val_loss: 0.1445\n",
      "Epoch 9/10\n",
      "24821/24821 [==============================] - 42s 2ms/step - loss: 0.1453 - val_loss: 0.1441\n",
      "Epoch 10/10\n",
      "24821/24821 [==============================] - 35s 1ms/step - loss: 0.1450 - val_loss: 0.1439\n",
      "12411/12411 [==============================] - 12s 1ms/step - loss: 0.1452\n",
      "Epoch 1/10\n",
      "24821/24821 [==============================] - 40s 2ms/step - loss: 0.1811 - val_loss: 0.1584\n",
      "Epoch 2/10\n",
      "24821/24821 [==============================] - 38s 2ms/step - loss: 0.1552 - val_loss: 0.1517\n",
      "Epoch 3/10\n",
      "24821/24821 [==============================] - 42s 2ms/step - loss: 0.1515 - val_loss: 0.1492\n",
      "Epoch 4/10\n",
      "24821/24821 [==============================] - 35s 1ms/step - loss: 0.1495 - val_loss: 0.1475\n",
      "Epoch 5/10\n",
      "24821/24821 [==============================] - 42s 2ms/step - loss: 0.1481 - val_loss: 0.1464\n",
      "Epoch 6/10\n",
      "24821/24821 [==============================] - 35s 1ms/step - loss: 0.1471 - val_loss: 0.1455\n",
      "Epoch 7/10\n",
      "24821/24821 [==============================] - 43s 2ms/step - loss: 0.1464 - val_loss: 0.1449\n",
      "Epoch 8/10\n",
      "24821/24821 [==============================] - 37s 1ms/step - loss: 0.1459 - val_loss: 0.1444\n",
      "Epoch 9/10\n",
      "24821/24821 [==============================] - 43s 2ms/step - loss: 0.1455 - val_loss: 0.1442\n",
      "Epoch 10/10\n",
      "24821/24821 [==============================] - 36s 1ms/step - loss: 0.1451 - val_loss: 0.1439\n",
      "12411/12411 [==============================] - 11s 872us/step - loss: 0.1448\n",
      "Epoch 1/10\n",
      "24821/24821 [==============================] - 41s 2ms/step - loss: 0.1838 - val_loss: 0.1612\n",
      "Epoch 2/10\n",
      "24821/24821 [==============================] - 35s 1ms/step - loss: 0.1568 - val_loss: 0.1527\n",
      "Epoch 3/10\n",
      "24821/24821 [==============================] - 40s 2ms/step - loss: 0.1521 - val_loss: 0.1497\n",
      "Epoch 4/10\n",
      "24821/24821 [==============================] - 37s 1ms/step - loss: 0.1498 - val_loss: 0.1478\n",
      "Epoch 5/10\n",
      "24821/24821 [==============================] - 39s 2ms/step - loss: 0.1483 - val_loss: 0.1466\n",
      "Epoch 6/10\n",
      "24821/24821 [==============================] - 39s 2ms/step - loss: 0.1472 - val_loss: 0.1457\n",
      "Epoch 7/10\n",
      "24821/24821 [==============================] - 42s 2ms/step - loss: 0.1465 - val_loss: 0.1450\n",
      "Epoch 8/10\n",
      "24821/24821 [==============================] - 44s 2ms/step - loss: 0.1459 - val_loss: 0.1445\n",
      "Epoch 9/10\n",
      "24821/24821 [==============================] - 38s 2ms/step - loss: 0.1454 - val_loss: 0.1441\n",
      "Epoch 10/10\n",
      "24821/24821 [==============================] - 42s 2ms/step - loss: 0.1451 - val_loss: 0.1439\n",
      "12411/12411 [==============================] - 12s 945us/step - loss: 0.1449\n",
      "Epoch 1/10\n",
      "24821/24821 [==============================] - 54s 2ms/step - loss: 0.2199 - val_loss: 0.1948\n",
      "Epoch 2/10\n",
      "24821/24821 [==============================] - 43s 2ms/step - loss: 0.1821 - val_loss: 0.1710\n",
      "Epoch 3/10\n",
      "24821/24821 [==============================] - 49s 2ms/step - loss: 0.1647 - val_loss: 0.1591\n",
      "Epoch 4/10\n",
      "24821/24821 [==============================] - 43s 2ms/step - loss: 0.1575 - val_loss: 0.1549\n",
      "Epoch 5/10\n",
      "24821/24821 [==============================] - 48s 2ms/step - loss: 0.1547 - val_loss: 0.1528\n",
      "Epoch 6/10\n",
      "24821/24821 [==============================] - 44s 2ms/step - loss: 0.1530 - val_loss: 0.1514\n",
      "Epoch 7/10\n",
      "24821/24821 [==============================] - 50s 2ms/step - loss: 0.1517 - val_loss: 0.1502\n",
      "Epoch 8/10\n",
      "24821/24821 [==============================] - 49s 2ms/step - loss: 0.1506 - val_loss: 0.1491\n",
      "Epoch 9/10\n",
      "24821/24821 [==============================] - 47s 2ms/step - loss: 0.1496 - val_loss: 0.1482\n",
      "Epoch 10/10\n",
      "24821/24821 [==============================] - 51s 2ms/step - loss: 0.1488 - val_loss: 0.1474\n",
      "12411/12411 [==============================] - 13s 1ms/step - loss: 0.1487\n",
      "Epoch 1/10\n",
      "24821/24821 [==============================] - 45s 2ms/step - loss: 0.2198 - val_loss: 0.1945\n",
      "Epoch 2/10\n",
      "24821/24821 [==============================] - 53s 2ms/step - loss: 0.1819 - val_loss: 0.1706\n",
      "Epoch 3/10\n",
      "24821/24821 [==============================] - 56s 2ms/step - loss: 0.1641 - val_loss: 0.1580\n",
      "Epoch 4/10\n",
      "24821/24821 [==============================] - 55s 2ms/step - loss: 0.1565 - val_loss: 0.1536\n",
      "Epoch 5/10\n",
      "24821/24821 [==============================] - 54s 2ms/step - loss: 0.1536 - val_loss: 0.1515\n",
      "Epoch 6/10\n",
      "24821/24821 [==============================] - 44s 2ms/step - loss: 0.1519 - val_loss: 0.1500\n",
      "Epoch 7/10\n",
      "24821/24821 [==============================] - 51s 2ms/step - loss: 0.1506 - val_loss: 0.1489\n",
      "Epoch 8/10\n",
      "24821/24821 [==============================] - 45s 2ms/step - loss: 0.1496 - val_loss: 0.1480\n",
      "Epoch 9/10\n",
      "24821/24821 [==============================] - 50s 2ms/step - loss: 0.1488 - val_loss: 0.1472\n",
      "Epoch 10/10\n",
      "24821/24821 [==============================] - 45s 2ms/step - loss: 0.1481 - val_loss: 0.1466\n",
      "12411/12411 [==============================] - 13s 1ms/step - loss: 0.1476\n",
      "Epoch 1/10\n",
      "24821/24821 [==============================] - 49s 2ms/step - loss: 0.2229 - val_loss: 0.1934\n",
      "Epoch 2/10\n",
      "24821/24821 [==============================] - 45s 2ms/step - loss: 0.1748 - val_loss: 0.1614\n",
      "Epoch 3/10\n"
     ]
    },
    {
     "name": "stdout",
     "output_type": "stream",
     "text": [
      "24821/24821 [==============================] - 48s 2ms/step - loss: 0.1573 - val_loss: 0.1534\n",
      "Epoch 4/10\n",
      "24821/24821 [==============================] - 52s 2ms/step - loss: 0.1531 - val_loss: 0.1511\n",
      "Epoch 5/10\n",
      "24821/24821 [==============================] - 51s 2ms/step - loss: 0.1514 - val_loss: 0.1498\n",
      "Epoch 6/10\n",
      "24821/24821 [==============================] - 54s 2ms/step - loss: 0.1503 - val_loss: 0.1487\n",
      "Epoch 7/10\n",
      "24821/24821 [==============================] - 51s 2ms/step - loss: 0.1494 - val_loss: 0.1479\n",
      "Epoch 8/10\n",
      "24821/24821 [==============================] - 56s 2ms/step - loss: 0.1486 - val_loss: 0.1472\n",
      "Epoch 9/10\n",
      "24821/24821 [==============================] - 50s 2ms/step - loss: 0.1479 - val_loss: 0.1465\n",
      "Epoch 10/10\n",
      "24821/24821 [==============================] - 55s 2ms/step - loss: 0.1473 - val_loss: 0.1459\n",
      "12411/12411 [==============================] - 13s 1ms/step - loss: 0.1470\n"
     ]
    },
    {
     "ename": "RuntimeError",
     "evalue": "Cannot clone object <tensorflow.python.keras.wrappers.scikit_learn.KerasRegressor object at 0x7fa168249310>, as the constructor either does not set or modifies parameter learning_rate",
     "output_type": "error",
     "traceback": [
      "\u001b[0;31m---------------------------------------------------------------------------\u001b[0m",
      "\u001b[0;31mRuntimeError\u001b[0m                              Traceback (most recent call last)",
      "\u001b[0;32m<ipython-input-20-80e1dfa580e0>\u001b[0m in \u001b[0;36m<module>\u001b[0;34m\u001b[0m\n\u001b[0;32m----> 1\u001b[0;31m \u001b[0mrnd_search_cv\u001b[0m\u001b[0;34m.\u001b[0m\u001b[0mfit\u001b[0m\u001b[0;34m(\u001b[0m\u001b[0mX_train_tr\u001b[0m\u001b[0;34m,\u001b[0m\u001b[0my_train\u001b[0m\u001b[0;34m,\u001b[0m\u001b[0mepochs\u001b[0m\u001b[0;34m=\u001b[0m\u001b[0;36m10\u001b[0m\u001b[0;34m,\u001b[0m\u001b[0mvalidation_data\u001b[0m\u001b[0;34m=\u001b[0m\u001b[0;34m(\u001b[0m\u001b[0mX_val_tr\u001b[0m\u001b[0;34m,\u001b[0m\u001b[0my_val\u001b[0m\u001b[0;34m)\u001b[0m\u001b[0;34m,\u001b[0m\u001b[0mcallbacks\u001b[0m\u001b[0;34m=\u001b[0m\u001b[0;34m[\u001b[0m\u001b[0mkeras\u001b[0m\u001b[0;34m.\u001b[0m\u001b[0mcallbacks\u001b[0m\u001b[0;34m.\u001b[0m\u001b[0mEarlyStopping\u001b[0m\u001b[0;34m(\u001b[0m\u001b[0mpatience\u001b[0m\u001b[0;34m=\u001b[0m\u001b[0;36m10\u001b[0m\u001b[0;34m)\u001b[0m\u001b[0;34m]\u001b[0m\u001b[0;34m)\u001b[0m\u001b[0;34m\u001b[0m\u001b[0;34m\u001b[0m\u001b[0m\n\u001b[0m",
      "\u001b[0;32m~/miniconda3/lib/python3.8/site-packages/sklearn/utils/validation.py\u001b[0m in \u001b[0;36minner_f\u001b[0;34m(*args, **kwargs)\u001b[0m\n\u001b[1;32m     70\u001b[0m                           FutureWarning)\n\u001b[1;32m     71\u001b[0m         \u001b[0mkwargs\u001b[0m\u001b[0;34m.\u001b[0m\u001b[0mupdate\u001b[0m\u001b[0;34m(\u001b[0m\u001b[0;34m{\u001b[0m\u001b[0mk\u001b[0m\u001b[0;34m:\u001b[0m \u001b[0marg\u001b[0m \u001b[0;32mfor\u001b[0m \u001b[0mk\u001b[0m\u001b[0;34m,\u001b[0m \u001b[0marg\u001b[0m \u001b[0;32min\u001b[0m \u001b[0mzip\u001b[0m\u001b[0;34m(\u001b[0m\u001b[0msig\u001b[0m\u001b[0;34m.\u001b[0m\u001b[0mparameters\u001b[0m\u001b[0;34m,\u001b[0m \u001b[0margs\u001b[0m\u001b[0;34m)\u001b[0m\u001b[0;34m}\u001b[0m\u001b[0;34m)\u001b[0m\u001b[0;34m\u001b[0m\u001b[0;34m\u001b[0m\u001b[0m\n\u001b[0;32m---> 72\u001b[0;31m         \u001b[0;32mreturn\u001b[0m \u001b[0mf\u001b[0m\u001b[0;34m(\u001b[0m\u001b[0;34m**\u001b[0m\u001b[0mkwargs\u001b[0m\u001b[0;34m)\u001b[0m\u001b[0;34m\u001b[0m\u001b[0;34m\u001b[0m\u001b[0m\n\u001b[0m\u001b[1;32m     73\u001b[0m     \u001b[0;32mreturn\u001b[0m \u001b[0minner_f\u001b[0m\u001b[0;34m\u001b[0m\u001b[0;34m\u001b[0m\u001b[0m\n\u001b[1;32m     74\u001b[0m \u001b[0;34m\u001b[0m\u001b[0m\n",
      "\u001b[0;32m~/miniconda3/lib/python3.8/site-packages/sklearn/model_selection/_search.py\u001b[0m in \u001b[0;36mfit\u001b[0;34m(self, X, y, groups, **fit_params)\u001b[0m\n\u001b[1;32m    759\u001b[0m             \u001b[0;31m# we clone again after setting params in case some\u001b[0m\u001b[0;34m\u001b[0m\u001b[0;34m\u001b[0m\u001b[0;34m\u001b[0m\u001b[0m\n\u001b[1;32m    760\u001b[0m             \u001b[0;31m# of the params are estimators as well.\u001b[0m\u001b[0;34m\u001b[0m\u001b[0;34m\u001b[0m\u001b[0;34m\u001b[0m\u001b[0m\n\u001b[0;32m--> 761\u001b[0;31m             self.best_estimator_ = clone(clone(base_estimator).set_params(\n\u001b[0m\u001b[1;32m    762\u001b[0m                 **self.best_params_))\n\u001b[1;32m    763\u001b[0m             \u001b[0mrefit_start_time\u001b[0m \u001b[0;34m=\u001b[0m \u001b[0mtime\u001b[0m\u001b[0;34m.\u001b[0m\u001b[0mtime\u001b[0m\u001b[0;34m(\u001b[0m\u001b[0;34m)\u001b[0m\u001b[0;34m\u001b[0m\u001b[0;34m\u001b[0m\u001b[0m\n",
      "\u001b[0;32m~/miniconda3/lib/python3.8/site-packages/sklearn/utils/validation.py\u001b[0m in \u001b[0;36minner_f\u001b[0;34m(*args, **kwargs)\u001b[0m\n\u001b[1;32m     70\u001b[0m                           FutureWarning)\n\u001b[1;32m     71\u001b[0m         \u001b[0mkwargs\u001b[0m\u001b[0;34m.\u001b[0m\u001b[0mupdate\u001b[0m\u001b[0;34m(\u001b[0m\u001b[0;34m{\u001b[0m\u001b[0mk\u001b[0m\u001b[0;34m:\u001b[0m \u001b[0marg\u001b[0m \u001b[0;32mfor\u001b[0m \u001b[0mk\u001b[0m\u001b[0;34m,\u001b[0m \u001b[0marg\u001b[0m \u001b[0;32min\u001b[0m \u001b[0mzip\u001b[0m\u001b[0;34m(\u001b[0m\u001b[0msig\u001b[0m\u001b[0;34m.\u001b[0m\u001b[0mparameters\u001b[0m\u001b[0;34m,\u001b[0m \u001b[0margs\u001b[0m\u001b[0;34m)\u001b[0m\u001b[0;34m}\u001b[0m\u001b[0;34m)\u001b[0m\u001b[0;34m\u001b[0m\u001b[0;34m\u001b[0m\u001b[0m\n\u001b[0;32m---> 72\u001b[0;31m         \u001b[0;32mreturn\u001b[0m \u001b[0mf\u001b[0m\u001b[0;34m(\u001b[0m\u001b[0;34m**\u001b[0m\u001b[0mkwargs\u001b[0m\u001b[0;34m)\u001b[0m\u001b[0;34m\u001b[0m\u001b[0;34m\u001b[0m\u001b[0m\n\u001b[0m\u001b[1;32m     73\u001b[0m     \u001b[0;32mreturn\u001b[0m \u001b[0minner_f\u001b[0m\u001b[0;34m\u001b[0m\u001b[0;34m\u001b[0m\u001b[0m\n\u001b[1;32m     74\u001b[0m \u001b[0;34m\u001b[0m\u001b[0m\n",
      "\u001b[0;32m~/miniconda3/lib/python3.8/site-packages/sklearn/base.py\u001b[0m in \u001b[0;36mclone\u001b[0;34m(estimator, safe)\u001b[0m\n\u001b[1;32m     94\u001b[0m         \u001b[0mparam2\u001b[0m \u001b[0;34m=\u001b[0m \u001b[0mparams_set\u001b[0m\u001b[0;34m[\u001b[0m\u001b[0mname\u001b[0m\u001b[0;34m]\u001b[0m\u001b[0;34m\u001b[0m\u001b[0;34m\u001b[0m\u001b[0m\n\u001b[1;32m     95\u001b[0m         \u001b[0;32mif\u001b[0m \u001b[0mparam1\u001b[0m \u001b[0;32mis\u001b[0m \u001b[0;32mnot\u001b[0m \u001b[0mparam2\u001b[0m\u001b[0;34m:\u001b[0m\u001b[0;34m\u001b[0m\u001b[0;34m\u001b[0m\u001b[0m\n\u001b[0;32m---> 96\u001b[0;31m             raise RuntimeError('Cannot clone object %s, as the constructor '\n\u001b[0m\u001b[1;32m     97\u001b[0m                                \u001b[0;34m'either does not set or modifies parameter %s'\u001b[0m \u001b[0;34m%\u001b[0m\u001b[0;34m\u001b[0m\u001b[0;34m\u001b[0m\u001b[0m\n\u001b[1;32m     98\u001b[0m                                (estimator, name))\n",
      "\u001b[0;31mRuntimeError\u001b[0m: Cannot clone object <tensorflow.python.keras.wrappers.scikit_learn.KerasRegressor object at 0x7fa168249310>, as the constructor either does not set or modifies parameter learning_rate"
     ]
    }
   ],
   "source": [
    "rnd_search_cv.fit(X_train_tr,y_train,epochs=10,validation_data=(X_val_tr,y_val),callbacks=[keras.callbacks.EarlyStopping(patience=10)])"
   ]
  },
  {
   "cell_type": "code",
   "execution_count": 24,
   "metadata": {},
   "outputs": [
    {
     "data": {
      "text/plain": [
       "{'learning_rate': 0.01304080507013371, 'n_hidden': 3, 'n_neurons': 475}"
      ]
     },
     "execution_count": 24,
     "metadata": {},
     "output_type": "execute_result"
    }
   ],
   "source": [
    "rnd_search_cv.best_params_"
   ]
  },
  {
   "cell_type": "code",
   "execution_count": 25,
   "metadata": {},
   "outputs": [
    {
     "data": {
      "text/plain": [
       "-0.15756651759147644"
      ]
     },
     "execution_count": 25,
     "metadata": {},
     "output_type": "execute_result"
    }
   ],
   "source": [
    "rnd_search_cv.best_score_"
   ]
  },
  {
   "cell_type": "code",
   "execution_count": 31,
   "metadata": {},
   "outputs": [
    {
     "ename": "AttributeError",
     "evalue": "'RandomizedSearchCV' object has no attribute 'best_estimator_'",
     "output_type": "error",
     "traceback": [
      "\u001b[0;31m---------------------------------------------------------------------------\u001b[0m",
      "\u001b[0;31mAttributeError\u001b[0m                            Traceback (most recent call last)",
      "\u001b[0;32m<ipython-input-31-d28ab2d49804>\u001b[0m in \u001b[0;36m<module>\u001b[0;34m\u001b[0m\n\u001b[0;32m----> 1\u001b[0;31m \u001b[0mmodel\u001b[0m \u001b[0;34m=\u001b[0m\u001b[0mrnd_search_cv\u001b[0m\u001b[0;34m.\u001b[0m\u001b[0mbest_estimator_\u001b[0m\u001b[0;34m\u001b[0m\u001b[0;34m\u001b[0m\u001b[0m\n\u001b[0m",
      "\u001b[0;31mAttributeError\u001b[0m: 'RandomizedSearchCV' object has no attribute 'best_estimator_'"
     ]
    }
   ],
   "source": [
    "model =rnd_search_cv.best_estimator_"
   ]
  },
  {
   "cell_type": "code",
   "execution_count": 27,
   "metadata": {},
   "outputs": [
    {
     "data": {
      "image/png": "[encoded data removed]",
      "text/plain": [
       "<Figure size 576x360 with 1 Axes>"
      ]
     },
     "metadata": {
      "needs_background": "light"
     },
     "output_type": "display_data"
    }
   ],
   "source": [
    "# #Learning Curves\n",
    "pd.DataFrame(prefit.history).plot(figsize=(8,5))\n",
    "plt.grid(True)\n",
    "plt.gca().set_ylim(0,1)\n",
    "# plt.savefig('../plots/learning_Curves.png')\n",
    "plt.show()\n"
   ]
  },
  {
   "cell_type": "code",
   "execution_count": 7,
   "metadata": {},
   "outputs": [
    {
     "name": "stderr",
     "output_type": "stream",
     "text": [
      "2020-10-01 15:50:23.340087: I tensorflow/core/platform/cpu_feature_guard.cc:143] Your CPU supports instructions that this TensorFlow binary was not compiled to use: SSE4.1 SSE4.2 AVX AVX2 FMA\n",
      "2020-10-01 15:50:23.481626: I tensorflow/core/platform/profile_utils/cpu_utils.cc:102] CPU Frequency: 1800000000 Hz\n",
      "2020-10-01 15:50:23.492361: I tensorflow/compiler/xla/service/service.cc:168] XLA service 0x7fffdd333bf0 initialized for platform Host (this does not guarantee that XLA will be used). Devices:\n",
      "2020-10-01 15:50:23.492915: I tensorflow/compiler/xla/service/service.cc:176]   StreamExecutor device (0): Host, Default Version\n",
      "2020-10-01 15:50:23.501819: I tensorflow/core/common_runtime/process_util.cc:147] Creating new thread pool with default inter op setting: 2. Tune using inter_op_parallelism_threads for best performance.\n"
     ]
    }
   ],
   "source": [
    "#DNN model\n",
    "def build_model(n_hidden=1,n_neurons=30,learning_rate=3e-3,input_shapes=[8]):\n",
    "    model = keras.models.Sequential()\n",
    "    model.add(keras.layers.InputLayer(input_shape=input_shapes))\n",
    "    for layer in range(n_hidden):\n",
    "        model.add(keras.layers.Dense(n_neurons,activation='relu',kernel_initializer=\"he_normal\"))\n",
    "    he_avg_init = keras.initializers.VarianceScaling(scale=2.,mode='fan_avg',distribution='uniform')\n",
    "    model.add(keras.layers.Dense(2,activation='sigmoid',kernel_initializer=he_avg_init))\n",
    "    optimizer = keras.optimizers.SGD(lr=learning_rate)\n",
    "    model.compile(loss=\"sparse_categorical_crossentropy\",optimizer=optimizer,metrics=['accuracy'])\n",
    "    return model\n",
    "\n",
    "l_rate =  0.01304080507013371\n",
    "\n",
    "#Tuned Model\n",
    "model = build_model(n_hidden=3,n_neurons=475,learning_rate=l_rate,input_shapes=len(labels))\n"
   ]
  },
  {
   "cell_type": "code",
   "execution_count": 8,
   "metadata": {},
   "outputs": [
    {
     "name": "stdout",
     "output_type": "stream",
     "text": [
      "37231/37231 [==============================] - 191s 5ms/step - loss: 0.4236 - accuracy: 0.8075 - val_loss: 0.4088 - val_accuracy: 0.8171\n"
     ]
    }
   ],
   "source": [
    "prefit = model.fit(X_train_tr,y_train,epochs=1,validation_data=(X_val_tr,y_val),callbacks=[keras.callbacks.EarlyStopping(patience=10)])"
   ]
  },
  {
   "cell_type": "code",
   "execution_count": 9,
   "metadata": {},
   "outputs": [],
   "source": [
    "y_pred = model.predict(X_test_)"
   ]
  },
  {
   "cell_type": "code",
   "execution_count": 10,
   "metadata": {},
   "outputs": [
    {
     "data": {
      "text/plain": [
       "array([[0.7063225 , 0.19619861],\n",
       "       [0.5586795 , 0.05687663],\n",
       "       [0.43129814, 0.12285158],\n",
       "       ...,\n",
       "       [0.49909323, 0.19855192],\n",
       "       [0.4417659 , 0.0430665 ],\n",
       "       [0.5519167 , 0.0350956 ]], dtype=float32)"
      ]
     },
     "execution_count": 10,
     "metadata": {},
     "output_type": "execute_result"
    }
   ],
   "source": [
    "y_out = np.array(y_test,dtype='float32')\n",
    "y_pred"
   ]
  },
  {
   "cell_type": "code",
   "execution_count": 54,
   "metadata": {},
   "outputs": [
    {
     "data": {
      "text/plain": [
       "1270503    0\n",
       "869728     0\n",
       "839203     0\n",
       "606202     1\n",
       "314340     1\n",
       "          ..\n",
       "118704     1\n",
       "901315     0\n",
       "724600     0\n",
       "946506     0\n",
       "861798     0\n",
       "Name: target, Length: 134957, dtype: object"
      ]
     },
     "execution_count": 54,
     "metadata": {},
     "output_type": "execute_result"
    }
   ],
   "source": [
    "y_test"
   ]
  },
  {
   "cell_type": "code",
   "execution_count": 11,
   "metadata": {},
   "outputs": [
    {
     "data": {
      "image/png": "[encoded data removed]",
      "text/plain": [
       "<Figure size 432x288 with 1 Axes>"
      ]
     },
     "metadata": {
      "needs_background": "light"
     },
     "output_type": "display_data"
    }
   ],
   "source": [
    "plt.plot(figsize=(6,5))\n",
    "plt.grid(True)\n",
    "fpr,tpr,th = roc_curve(y_true=y_out,y_score=y_pred[:,1])\n",
    "auc = roc_auc_score(y_out,y_pred[:,1])\n",
    "plt.plot(tpr,1-fpr)\n",
    "plt.text(0.15,0.35,f'auc value: {auc}')\n",
    "plt.show()\n"
   ]
  },
  {
   "cell_type": "code",
   "execution_count": 171,
   "metadata": {},
   "outputs": [
    {
     "data": {
      "image/png": "[encoded data removed]",
      "text/plain": [
       "<IPython.core.display.Image object>"
      ]
     },
     "metadata": {},
     "output_type": "display_data"
    }
   ],
   "source": [
    "c = ROOT.TCanvas()\n",
    "gr = ROOT.TGraph(fpr.size,tpr,1-fpr)\n",
    "gr.Draw(\"C\")\n",
    "c.Draw()"
   ]
  },
  {
   "cell_type": "code",
   "execution_count": 182,
   "metadata": {},
   "outputs": [
    {
     "data": {
      "text/plain": [
       "48552"
      ]
     },
     "execution_count": 182,
     "metadata": {},
     "output_type": "execute_result"
    }
   ],
   "source": [
    "fpr.size"
   ]
  },
  {
   "cell_type": "code",
   "execution_count": 14,
   "metadata": {},
   "outputs": [
    {
     "data": {
      "text/plain": [
       "Text(0.5, 0, 'DNN response with JSS')"
      ]
     },
     "execution_count": 14,
     "metadata": {},
     "output_type": "execute_result"
    },
    {
     "data": {
      "image/png": "[encoded data removed]",
      "text/plain": [
       "<Figure size 432x288 with 1 Axes>"
      ]
     },
     "metadata": {
      "needs_background": "light"
     },
     "output_type": "display_data"
    }
   ],
   "source": [
    "Bins =10\n",
    "plt.plot(figsize=(6,5))\n",
    "plt.hist(y_pred[:,0],bins=Bins,range=(0.01,0.99),density=True,alpha=0.7,label='qq')\n",
    "plt.hist(y_pred[:,1],bins=Bins,range=(0.01,0.99),density=True,alpha=0.7,label='SMbkg')\n",
    "plt.legend(loc='upper center')\n",
    "plt.ylim(0,3)\n",
    "plt.xlabel('DNN response with JSS')\n"
   ]
  },
  {
   "cell_type": "code",
   "execution_count": 111,
   "metadata": {},
   "outputs": [],
   "source": [
    "m_inv = np.array(testdataset['invmass'],dtype=[('m_inv',np.float32)])\n",
    "sig_score = y_pred[:,1].astype([('sig_score',np.float32)])"
   ]
  },
  {
   "cell_type": "code",
   "execution_count": 91,
   "metadata": {},
   "outputs": [],
   "source": [
    "from root_numpy import array2root,array2tree"
   ]
  },
  {
   "cell_type": "code",
   "execution_count": 121,
   "metadata": {},
   "outputs": [],
   "source": [
    "test_root = ROOT.TFile('test.root',\"update\")\n"
   ]
  },
  {
   "cell_type": "code",
   "execution_count": 120,
   "metadata": {},
   "outputs": [
    {
     "data": {
      "text/plain": [
       "1053"
      ]
     },
     "execution_count": 120,
     "metadata": {},
     "output_type": "execute_result"
    }
   ],
   "source": [
    "test = array2tree(m_inv,'tree')\n",
    "array2tree(sig_score,'tree')\n",
    "test_root.Write()"
   ]
  },
  {
   "cell_type": "code",
   "execution_count": 124,
   "metadata": {},
   "outputs": [
    {
     "name": "stderr",
     "output_type": "stream",
     "text": [
      "Warning in <TTree::SetEntries>: Tree branches have different numbers of entries, eg sig_score has 134957 entries while m_inv has 269914 entries.\n"
     ]
    }
   ],
   "source": [
    "array2root(m_inv,'test_.root',treename='tree',mode='update')\n",
    "array2root(sig_score,'test_.root',treename='tree',mode='update')"
   ]
  },
  {
   "cell_type": "code",
   "execution_count": 125,
   "metadata": {},
   "outputs": [],
   "source": [
    "test_file = ROOT.TFile('test.root','update')"
   ]
  },
  {
   "cell_type": "code",
   "execution_count": 126,
   "metadata": {},
   "outputs": [],
   "source": [
    "test_file = array2root(m_inv,'test_.root',treename='tree',mode='update')"
   ]
  },
  {
   "cell_type": "code",
   "execution_count": 133,
   "metadata": {},
   "outputs": [],
   "source": [
    "sig_df = testdataset.loc[testdataset['target']=='0']"
   ]
  },
  {
   "cell_type": "code",
   "execution_count": 134,
   "metadata": {
    "scrolled": true
   },
   "outputs": [
    {
     "data": {
      "text/html": [
       "<div>\n",
       "<style scoped>\n",
       "    .dataframe tbody tr th:only-of-type {\n",
       "        vertical-align: middle;\n",
       "    }\n",
       "\n",
       "    .dataframe tbody tr th {\n",
       "        vertical-align: top;\n",
       "    }\n",
       "\n",
       "    .dataframe thead th {\n",
       "        text-align: right;\n",
       "    }\n",
       "</style>\n",
       "<table border=\"1\" class=\"dataframe\">\n",
       "  <thead>\n",
       "    <tr style=\"text-align: right;\">\n",
       "      <th></th>\n",
       "      <th>ptJ1</th>\n",
       "      <th>ptJ2</th>\n",
       "      <th>invmass</th>\n",
       "      <th>DRJ1J2</th>\n",
       "      <th>etaJ1</th>\n",
       "      <th>etaJ2</th>\n",
       "      <th>pTDJ1</th>\n",
       "      <th>pTDJ2</th>\n",
       "      <th>LHAJ1</th>\n",
       "      <th>LHAJ2</th>\n",
       "      <th>...</th>\n",
       "      <th>s2J2</th>\n",
       "      <th>pmJ1</th>\n",
       "      <th>pmJ2</th>\n",
       "      <th>tmJ1</th>\n",
       "      <th>tmJ2</th>\n",
       "      <th>widthJ1</th>\n",
       "      <th>widthJ2</th>\n",
       "      <th>girthJ1</th>\n",
       "      <th>girthJ2</th>\n",
       "      <th>target</th>\n",
       "    </tr>\n",
       "  </thead>\n",
       "  <tbody>\n",
       "    <tr>\n",
       "      <th>1270503</th>\n",
       "      <td>920.556030</td>\n",
       "      <td>694.270020</td>\n",
       "      <td>1728.776733</td>\n",
       "      <td>3.19922</td>\n",
       "      <td>-1.450070</td>\n",
       "      <td>-0.647956</td>\n",
       "      <td>0.407418</td>\n",
       "      <td>0.442950</td>\n",
       "      <td>0.249925</td>\n",
       "      <td>0.158206</td>\n",
       "      <td>...</td>\n",
       "      <td>0.004815</td>\n",
       "      <td>23</td>\n",
       "      <td>13</td>\n",
       "      <td>9</td>\n",
       "      <td>8</td>\n",
       "      <td>0.078307</td>\n",
       "      <td>0.029794</td>\n",
       "      <td>0.011820</td>\n",
       "      <td>0.001702</td>\n",
       "      <td>0</td>\n",
       "    </tr>\n",
       "    <tr>\n",
       "      <th>869728</th>\n",
       "      <td>977.276978</td>\n",
       "      <td>849.578003</td>\n",
       "      <td>1815.327881</td>\n",
       "      <td>2.95761</td>\n",
       "      <td>0.204744</td>\n",
       "      <td>0.154638</td>\n",
       "      <td>0.308062</td>\n",
       "      <td>0.271052</td>\n",
       "      <td>0.375982</td>\n",
       "      <td>0.387466</td>\n",
       "      <td>...</td>\n",
       "      <td>0.020248</td>\n",
       "      <td>49</td>\n",
       "      <td>60</td>\n",
       "      <td>26</td>\n",
       "      <td>32</td>\n",
       "      <td>0.191190</td>\n",
       "      <td>0.195617</td>\n",
       "      <td>0.087703</td>\n",
       "      <td>0.095123</td>\n",
       "      <td>0</td>\n",
       "    </tr>\n",
       "    <tr>\n",
       "      <th>839203</th>\n",
       "      <td>830.455017</td>\n",
       "      <td>740.653015</td>\n",
       "      <td>1714.205811</td>\n",
       "      <td>3.21874</td>\n",
       "      <td>-0.698874</td>\n",
       "      <td>-1.555030</td>\n",
       "      <td>0.229689</td>\n",
       "      <td>0.823940</td>\n",
       "      <td>0.379816</td>\n",
       "      <td>0.186277</td>\n",
       "      <td>...</td>\n",
       "      <td>0.001960</td>\n",
       "      <td>51</td>\n",
       "      <td>28</td>\n",
       "      <td>25</td>\n",
       "      <td>18</td>\n",
       "      <td>0.156358</td>\n",
       "      <td>0.052102</td>\n",
       "      <td>0.034489</td>\n",
       "      <td>0.012108</td>\n",
       "      <td>0</td>\n",
       "    </tr>\n",
       "    <tr>\n",
       "      <th>668350</th>\n",
       "      <td>723.604980</td>\n",
       "      <td>710.296997</td>\n",
       "      <td>1430.953857</td>\n",
       "      <td>2.28314</td>\n",
       "      <td>-0.380906</td>\n",
       "      <td>-1.362930</td>\n",
       "      <td>0.321829</td>\n",
       "      <td>0.717977</td>\n",
       "      <td>0.359688</td>\n",
       "      <td>0.222939</td>\n",
       "      <td>...</td>\n",
       "      <td>0.005012</td>\n",
       "      <td>38</td>\n",
       "      <td>34</td>\n",
       "      <td>24</td>\n",
       "      <td>19</td>\n",
       "      <td>0.158036</td>\n",
       "      <td>0.083569</td>\n",
       "      <td>0.064314</td>\n",
       "      <td>0.035901</td>\n",
       "      <td>0</td>\n",
       "    </tr>\n",
       "    <tr>\n",
       "      <th>1281403</th>\n",
       "      <td>909.685974</td>\n",
       "      <td>754.362976</td>\n",
       "      <td>1710.412720</td>\n",
       "      <td>3.12107</td>\n",
       "      <td>0.262633</td>\n",
       "      <td>-0.248330</td>\n",
       "      <td>0.599768</td>\n",
       "      <td>0.409279</td>\n",
       "      <td>0.162300</td>\n",
       "      <td>0.322845</td>\n",
       "      <td>...</td>\n",
       "      <td>0.010831</td>\n",
       "      <td>16</td>\n",
       "      <td>41</td>\n",
       "      <td>12</td>\n",
       "      <td>21</td>\n",
       "      <td>0.029551</td>\n",
       "      <td>0.119836</td>\n",
       "      <td>0.001464</td>\n",
       "      <td>0.026503</td>\n",
       "      <td>0</td>\n",
       "    </tr>\n",
       "    <tr>\n",
       "      <th>...</th>\n",
       "      <td>...</td>\n",
       "      <td>...</td>\n",
       "      <td>...</td>\n",
       "      <td>...</td>\n",
       "      <td>...</td>\n",
       "      <td>...</td>\n",
       "      <td>...</td>\n",
       "      <td>...</td>\n",
       "      <td>...</td>\n",
       "      <td>...</td>\n",
       "      <td>...</td>\n",
       "      <td>...</td>\n",
       "      <td>...</td>\n",
       "      <td>...</td>\n",
       "      <td>...</td>\n",
       "      <td>...</td>\n",
       "      <td>...</td>\n",
       "      <td>...</td>\n",
       "      <td>...</td>\n",
       "      <td>...</td>\n",
       "      <td>...</td>\n",
       "    </tr>\n",
       "    <tr>\n",
       "      <th>722138</th>\n",
       "      <td>974.859985</td>\n",
       "      <td>873.965027</td>\n",
       "      <td>1857.237549</td>\n",
       "      <td>3.07251</td>\n",
       "      <td>-0.645853</td>\n",
       "      <td>-0.879272</td>\n",
       "      <td>0.271995</td>\n",
       "      <td>0.449791</td>\n",
       "      <td>0.228012</td>\n",
       "      <td>0.379112</td>\n",
       "      <td>...</td>\n",
       "      <td>0.020106</td>\n",
       "      <td>27</td>\n",
       "      <td>36</td>\n",
       "      <td>16</td>\n",
       "      <td>24</td>\n",
       "      <td>0.058282</td>\n",
       "      <td>0.176638</td>\n",
       "      <td>0.005178</td>\n",
       "      <td>0.078418</td>\n",
       "      <td>0</td>\n",
       "    </tr>\n",
       "    <tr>\n",
       "      <th>901315</th>\n",
       "      <td>880.844971</td>\n",
       "      <td>871.333984</td>\n",
       "      <td>2011.327026</td>\n",
       "      <td>3.30382</td>\n",
       "      <td>1.732070</td>\n",
       "      <td>0.657103</td>\n",
       "      <td>0.284619</td>\n",
       "      <td>0.269506</td>\n",
       "      <td>0.251780</td>\n",
       "      <td>0.437628</td>\n",
       "      <td>...</td>\n",
       "      <td>0.032669</td>\n",
       "      <td>54</td>\n",
       "      <td>63</td>\n",
       "      <td>27</td>\n",
       "      <td>46</td>\n",
       "      <td>0.086682</td>\n",
       "      <td>0.216576</td>\n",
       "      <td>0.024060</td>\n",
       "      <td>0.079883</td>\n",
       "      <td>0</td>\n",
       "    </tr>\n",
       "    <tr>\n",
       "      <th>724600</th>\n",
       "      <td>887.905029</td>\n",
       "      <td>884.276978</td>\n",
       "      <td>1810.455566</td>\n",
       "      <td>3.16580</td>\n",
       "      <td>0.165679</td>\n",
       "      <td>-0.249287</td>\n",
       "      <td>0.602745</td>\n",
       "      <td>0.264591</td>\n",
       "      <td>0.105069</td>\n",
       "      <td>0.425641</td>\n",
       "      <td>...</td>\n",
       "      <td>0.033674</td>\n",
       "      <td>11</td>\n",
       "      <td>60</td>\n",
       "      <td>9</td>\n",
       "      <td>26</td>\n",
       "      <td>0.014623</td>\n",
       "      <td>0.212068</td>\n",
       "      <td>0.000743</td>\n",
       "      <td>0.078100</td>\n",
       "      <td>0</td>\n",
       "    </tr>\n",
       "    <tr>\n",
       "      <th>946506</th>\n",
       "      <td>1436.229980</td>\n",
       "      <td>840.208984</td>\n",
       "      <td>2606.331543</td>\n",
       "      <td>3.32220</td>\n",
       "      <td>-0.746192</td>\n",
       "      <td>0.457095</td>\n",
       "      <td>0.413254</td>\n",
       "      <td>0.703787</td>\n",
       "      <td>0.100063</td>\n",
       "      <td>0.213073</td>\n",
       "      <td>...</td>\n",
       "      <td>0.002761</td>\n",
       "      <td>17</td>\n",
       "      <td>19</td>\n",
       "      <td>12</td>\n",
       "      <td>11</td>\n",
       "      <td>0.016331</td>\n",
       "      <td>0.053105</td>\n",
       "      <td>0.001726</td>\n",
       "      <td>0.006404</td>\n",
       "      <td>0</td>\n",
       "    </tr>\n",
       "    <tr>\n",
       "      <th>861798</th>\n",
       "      <td>1074.560059</td>\n",
       "      <td>832.442017</td>\n",
       "      <td>1934.294067</td>\n",
       "      <td>3.15723</td>\n",
       "      <td>-0.317565</td>\n",
       "      <td>-0.741961</td>\n",
       "      <td>0.489016</td>\n",
       "      <td>0.229690</td>\n",
       "      <td>0.309375</td>\n",
       "      <td>0.630818</td>\n",
       "      <td>...</td>\n",
       "      <td>0.080932</td>\n",
       "      <td>38</td>\n",
       "      <td>68</td>\n",
       "      <td>18</td>\n",
       "      <td>36</td>\n",
       "      <td>0.108813</td>\n",
       "      <td>0.413716</td>\n",
       "      <td>0.022161</td>\n",
       "      <td>0.200983</td>\n",
       "      <td>0</td>\n",
       "    </tr>\n",
       "  </tbody>\n",
       "</table>\n",
       "<p>70341 rows × 23 columns</p>\n",
       "</div>"
      ],
      "text/plain": [
       "                ptJ1        ptJ2      invmass   DRJ1J2     etaJ1     etaJ2  \\\n",
       "1270503   920.556030  694.270020  1728.776733  3.19922 -1.450070 -0.647956   \n",
       "869728    977.276978  849.578003  1815.327881  2.95761  0.204744  0.154638   \n",
       "839203    830.455017  740.653015  1714.205811  3.21874 -0.698874 -1.555030   \n",
       "668350    723.604980  710.296997  1430.953857  2.28314 -0.380906 -1.362930   \n",
       "1281403   909.685974  754.362976  1710.412720  3.12107  0.262633 -0.248330   \n",
       "...              ...         ...          ...      ...       ...       ...   \n",
       "722138    974.859985  873.965027  1857.237549  3.07251 -0.645853 -0.879272   \n",
       "901315    880.844971  871.333984  2011.327026  3.30382  1.732070  0.657103   \n",
       "724600    887.905029  884.276978  1810.455566  3.16580  0.165679 -0.249287   \n",
       "946506   1436.229980  840.208984  2606.331543  3.32220 -0.746192  0.457095   \n",
       "861798   1074.560059  832.442017  1934.294067  3.15723 -0.317565 -0.741961   \n",
       "\n",
       "            pTDJ1     pTDJ2     LHAJ1     LHAJ2  ...      s2J2  pmJ1  pmJ2  \\\n",
       "1270503  0.407418  0.442950  0.249925  0.158206  ...  0.004815    23    13   \n",
       "869728   0.308062  0.271052  0.375982  0.387466  ...  0.020248    49    60   \n",
       "839203   0.229689  0.823940  0.379816  0.186277  ...  0.001960    51    28   \n",
       "668350   0.321829  0.717977  0.359688  0.222939  ...  0.005012    38    34   \n",
       "1281403  0.599768  0.409279  0.162300  0.322845  ...  0.010831    16    41   \n",
       "...           ...       ...       ...       ...  ...       ...   ...   ...   \n",
       "722138   0.271995  0.449791  0.228012  0.379112  ...  0.020106    27    36   \n",
       "901315   0.284619  0.269506  0.251780  0.437628  ...  0.032669    54    63   \n",
       "724600   0.602745  0.264591  0.105069  0.425641  ...  0.033674    11    60   \n",
       "946506   0.413254  0.703787  0.100063  0.213073  ...  0.002761    17    19   \n",
       "861798   0.489016  0.229690  0.309375  0.630818  ...  0.080932    38    68   \n",
       "\n",
       "         tmJ1 tmJ2   widthJ1   widthJ2   girthJ1   girthJ2  target  \n",
       "1270503     9    8  0.078307  0.029794  0.011820  0.001702       0  \n",
       "869728     26   32  0.191190  0.195617  0.087703  0.095123       0  \n",
       "839203     25   18  0.156358  0.052102  0.034489  0.012108       0  \n",
       "668350     24   19  0.158036  0.083569  0.064314  0.035901       0  \n",
       "1281403    12   21  0.029551  0.119836  0.001464  0.026503       0  \n",
       "...       ...  ...       ...       ...       ...       ...     ...  \n",
       "722138     16   24  0.058282  0.176638  0.005178  0.078418       0  \n",
       "901315     27   46  0.086682  0.216576  0.024060  0.079883       0  \n",
       "724600      9   26  0.014623  0.212068  0.000743  0.078100       0  \n",
       "946506     12   11  0.016331  0.053105  0.001726  0.006404       0  \n",
       "861798     18   36  0.108813  0.413716  0.022161  0.200983       0  \n",
       "\n",
       "[70341 rows x 23 columns]"
      ]
     },
     "execution_count": 134,
     "metadata": {},
     "output_type": "execute_result"
    }
   ],
   "source": [
    "sig_df"
   ]
  },
  {
   "cell_type": "code",
   "execution_count": 160,
   "metadata": {},
   "outputs": [],
   "source": [
    "l1 = np.array([1,2,3])\n",
    "l2 = np.array([4,5,6])\n",
    "l = zip(l1,l2)"
   ]
  },
  {
   "cell_type": "code",
   "execution_count": 161,
   "metadata": {},
   "outputs": [],
   "source": [
    "l_= list(l)\n",
    "ar = np.array(l_,dtype=[('a','int32'),('b','int32')])"
   ]
  },
  {
   "cell_type": "code",
   "execution_count": 162,
   "metadata": {},
   "outputs": [
    {
     "data": {
      "text/plain": [
       "array([(1, 4), (2, 5), (3, 6)], dtype=[('a', '<i4'), ('b', '<i4')])"
      ]
     },
     "execution_count": 162,
     "metadata": {},
     "output_type": "execute_result"
    }
   ],
   "source": [
    "ar"
   ]
  },
  {
   "cell_type": "code",
   "execution_count": null,
   "metadata": {},
   "outputs": [],
   "source": []
  },
  {
   "cell_type": "code",
   "execution_count": null,
   "metadata": {},
   "outputs": [],
   "source": []
  }
 ],
 "metadata": {
  "kernelspec": {
   "display_name": "Python 3",
   "language": "python",
   "name": "python3"
  }
 },
 "nbformat": 4,
 "nbformat_minor": 4
}
